{
 "cells": [
  {
   "cell_type": "code",
   "execution_count": 1,
   "id": "fb5970bb-2ee7-4805-9cfc-0340173324f0",
   "metadata": {},
   "outputs": [],
   "source": [
    "import numpy as np \n",
    "import pandas as pd \n",
    "import matplotlib.pyplot as plt \n",
    "import pandas_datareader as data"
   ]
  },
  {
   "cell_type": "code",
   "execution_count": 2,
   "id": "fd4acfc5-177a-43d5-9ff7-7d870ac17f6a",
   "metadata": {},
   "outputs": [
    {
     "data": {
      "text/html": [
       "<div>\n",
       "<style scoped>\n",
       "    .dataframe tbody tr th:only-of-type {\n",
       "        vertical-align: middle;\n",
       "    }\n",
       "\n",
       "    .dataframe tbody tr th {\n",
       "        vertical-align: top;\n",
       "    }\n",
       "\n",
       "    .dataframe thead th {\n",
       "        text-align: right;\n",
       "    }\n",
       "</style>\n",
       "<table border=\"1\" class=\"dataframe\">\n",
       "  <thead>\n",
       "    <tr style=\"text-align: right;\">\n",
       "      <th></th>\n",
       "      <th>High</th>\n",
       "      <th>Low</th>\n",
       "      <th>Open</th>\n",
       "      <th>Close</th>\n",
       "      <th>Volume</th>\n",
       "      <th>Adj Close</th>\n",
       "    </tr>\n",
       "    <tr>\n",
       "      <th>Date</th>\n",
       "      <th></th>\n",
       "      <th></th>\n",
       "      <th></th>\n",
       "      <th></th>\n",
       "      <th></th>\n",
       "      <th></th>\n",
       "    </tr>\n",
       "  </thead>\n",
       "  <tbody>\n",
       "    <tr>\n",
       "      <th>2021-12-27</th>\n",
       "      <td>466.100006</td>\n",
       "      <td>457.959991</td>\n",
       "      <td>457.959991</td>\n",
       "      <td>466.100006</td>\n",
       "      <td>512300.0</td>\n",
       "      <td>466.100006</td>\n",
       "    </tr>\n",
       "    <tr>\n",
       "      <th>2021-12-28</th>\n",
       "      <td>467.059998</td>\n",
       "      <td>461.579987</td>\n",
       "      <td>466.829987</td>\n",
       "      <td>462.839996</td>\n",
       "      <td>518400.0</td>\n",
       "      <td>462.839996</td>\n",
       "    </tr>\n",
       "    <tr>\n",
       "      <th>2021-12-29</th>\n",
       "      <td>464.559998</td>\n",
       "      <td>460.049988</td>\n",
       "      <td>462.700012</td>\n",
       "      <td>462.880005</td>\n",
       "      <td>366600.0</td>\n",
       "      <td>462.880005</td>\n",
       "    </tr>\n",
       "    <tr>\n",
       "      <th>2021-12-30</th>\n",
       "      <td>465.059998</td>\n",
       "      <td>460.019989</td>\n",
       "      <td>462.799988</td>\n",
       "      <td>460.459991</td>\n",
       "      <td>334500.0</td>\n",
       "      <td>460.459991</td>\n",
       "    </tr>\n",
       "    <tr>\n",
       "      <th>2021-12-31</th>\n",
       "      <td>461.369995</td>\n",
       "      <td>457.910004</td>\n",
       "      <td>460.339996</td>\n",
       "      <td>458.170013</td>\n",
       "      <td>400100.0</td>\n",
       "      <td>458.170013</td>\n",
       "    </tr>\n",
       "  </tbody>\n",
       "</table>\n",
       "</div>"
      ],
      "text/plain": [
       "                  High         Low        Open       Close    Volume  \\\n",
       "Date                                                                   \n",
       "2021-12-27  466.100006  457.959991  457.959991  466.100006  512300.0   \n",
       "2021-12-28  467.059998  461.579987  466.829987  462.839996  518400.0   \n",
       "2021-12-29  464.559998  460.049988  462.700012  462.880005  366600.0   \n",
       "2021-12-30  465.059998  460.019989  462.799988  460.459991  334500.0   \n",
       "2021-12-31  461.369995  457.910004  460.339996  458.170013  400100.0   \n",
       "\n",
       "             Adj Close  \n",
       "Date                    \n",
       "2021-12-27  466.100006  \n",
       "2021-12-28  462.839996  \n",
       "2021-12-29  462.880005  \n",
       "2021-12-30  460.459991  \n",
       "2021-12-31  458.170013  "
      ]
     },
     "execution_count": 2,
     "metadata": {},
     "output_type": "execute_result"
    }
   ],
   "source": [
    "start = '2010-01-01'\n",
    "end = '2021-12-31'\n",
    "\n",
    "df = data.DataReader('VGT', 'yahoo', start, end)\n",
    "df.tail()"
   ]
  },
  {
   "cell_type": "code",
   "execution_count": 3,
   "id": "4b93330f-99c4-4e5b-aa3c-6b9d838642fd",
   "metadata": {},
   "outputs": [
    {
     "data": {
      "text/plain": [
       "High         False\n",
       "Low          False\n",
       "Open         False\n",
       "Close        False\n",
       "Volume       False\n",
       "Adj Close    False\n",
       "dtype: bool"
      ]
     },
     "execution_count": 3,
     "metadata": {},
     "output_type": "execute_result"
    }
   ],
   "source": [
    "df.isna().any()"
   ]
  },
  {
   "cell_type": "code",
   "execution_count": 5,
   "id": "3905237d-2fb1-49d8-a43c-c64ba8c6dd09",
   "metadata": {},
   "outputs": [
    {
     "name": "stdout",
     "output_type": "stream",
     "text": [
      "<class 'pandas.core.frame.DataFrame'>\n",
      "DatetimeIndex: 3021 entries, 2010-01-04 to 2021-12-31\n",
      "Data columns (total 6 columns):\n",
      " #   Column     Non-Null Count  Dtype  \n",
      "---  ------     --------------  -----  \n",
      " 0   High       3021 non-null   float64\n",
      " 1   Low        3021 non-null   float64\n",
      " 2   Open       3021 non-null   float64\n",
      " 3   Close      3021 non-null   float64\n",
      " 4   Volume     3021 non-null   float64\n",
      " 5   Adj Close  3021 non-null   float64\n",
      "dtypes: float64(6)\n",
      "memory usage: 165.2 KB\n"
     ]
    }
   ],
   "source": [
    "df.info()"
   ]
  },
  {
   "cell_type": "code",
   "execution_count": 12,
   "id": "35fb2336-8848-4dcd-bb1c-64ac828dce64",
   "metadata": {},
   "outputs": [
    {
     "data": {
      "image/png": "[encoded data removed]",
      "text/plain": [
       "<Figure size 864x432 with 1 Axes>"
      ]
     },
     "metadata": {
      "needs_background": "light"
     },
     "output_type": "display_data"
    }
   ],
   "source": [
    "plt.figure(figsize = (12,6))\n",
    "\n",
    "plt.plot(df['Open'])\n",
    "plt.title('VGT Price Chart, 2010-Present')\n",
    "plt.xlabel('Year')\n",
    "plt.ylabel('Price');"
   ]
  },
  {
   "cell_type": "code",
   "execution_count": 13,
   "id": "8aa7b88f-e21d-463d-94b6-842696d59e3b",
   "metadata": {},
   "outputs": [
    {
     "data": {
      "text/html": [
       "<div>\n",
       "<style scoped>\n",
       "    .dataframe tbody tr th:only-of-type {\n",
       "        vertical-align: middle;\n",
       "    }\n",
       "\n",
       "    .dataframe tbody tr th {\n",
       "        vertical-align: top;\n",
       "    }\n",
       "\n",
       "    .dataframe thead th {\n",
       "        text-align: right;\n",
       "    }\n",
       "</style>\n",
       "<table border=\"1\" class=\"dataframe\">\n",
       "  <thead>\n",
       "    <tr style=\"text-align: right;\">\n",
       "      <th></th>\n",
       "      <th>High</th>\n",
       "      <th>Low</th>\n",
       "      <th>Open</th>\n",
       "      <th>Close</th>\n",
       "      <th>Volume</th>\n",
       "      <th>Adj Close</th>\n",
       "    </tr>\n",
       "    <tr>\n",
       "      <th>Date</th>\n",
       "      <th></th>\n",
       "      <th></th>\n",
       "      <th></th>\n",
       "      <th></th>\n",
       "      <th></th>\n",
       "      <th></th>\n",
       "    </tr>\n",
       "  </thead>\n",
       "  <tbody>\n",
       "    <tr>\n",
       "      <th>2010-01-04</th>\n",
       "      <td>NaN</td>\n",
       "      <td>NaN</td>\n",
       "      <td>NaN</td>\n",
       "      <td>NaN</td>\n",
       "      <td>NaN</td>\n",
       "      <td>NaN</td>\n",
       "    </tr>\n",
       "    <tr>\n",
       "      <th>2010-01-05</th>\n",
       "      <td>NaN</td>\n",
       "      <td>NaN</td>\n",
       "      <td>NaN</td>\n",
       "      <td>NaN</td>\n",
       "      <td>NaN</td>\n",
       "      <td>NaN</td>\n",
       "    </tr>\n",
       "    <tr>\n",
       "      <th>2010-01-06</th>\n",
       "      <td>NaN</td>\n",
       "      <td>NaN</td>\n",
       "      <td>NaN</td>\n",
       "      <td>NaN</td>\n",
       "      <td>NaN</td>\n",
       "      <td>NaN</td>\n",
       "    </tr>\n",
       "    <tr>\n",
       "      <th>2010-01-07</th>\n",
       "      <td>NaN</td>\n",
       "      <td>NaN</td>\n",
       "      <td>NaN</td>\n",
       "      <td>NaN</td>\n",
       "      <td>NaN</td>\n",
       "      <td>NaN</td>\n",
       "    </tr>\n",
       "    <tr>\n",
       "      <th>2010-01-08</th>\n",
       "      <td>NaN</td>\n",
       "      <td>NaN</td>\n",
       "      <td>NaN</td>\n",
       "      <td>NaN</td>\n",
       "      <td>NaN</td>\n",
       "      <td>NaN</td>\n",
       "    </tr>\n",
       "    <tr>\n",
       "      <th>2010-01-11</th>\n",
       "      <td>NaN</td>\n",
       "      <td>NaN</td>\n",
       "      <td>NaN</td>\n",
       "      <td>NaN</td>\n",
       "      <td>NaN</td>\n",
       "      <td>NaN</td>\n",
       "    </tr>\n",
       "    <tr>\n",
       "      <th>2010-01-12</th>\n",
       "      <td>55.641429</td>\n",
       "      <td>55.048571</td>\n",
       "      <td>55.435714</td>\n",
       "      <td>55.361428</td>\n",
       "      <td>257871.428571</td>\n",
       "      <td>49.252574</td>\n",
       "    </tr>\n",
       "    <tr>\n",
       "      <th>2010-01-13</th>\n",
       "      <td>55.552858</td>\n",
       "      <td>54.888572</td>\n",
       "      <td>55.334286</td>\n",
       "      <td>55.275714</td>\n",
       "      <td>264000.000000</td>\n",
       "      <td>49.176318</td>\n",
       "    </tr>\n",
       "    <tr>\n",
       "      <th>2010-01-14</th>\n",
       "      <td>55.524286</td>\n",
       "      <td>54.832857</td>\n",
       "      <td>55.235714</td>\n",
       "      <td>55.248571</td>\n",
       "      <td>232257.142857</td>\n",
       "      <td>49.152169</td>\n",
       "    </tr>\n",
       "    <tr>\n",
       "      <th>2010-01-15</th>\n",
       "      <td>55.498572</td>\n",
       "      <td>54.741429</td>\n",
       "      <td>55.195714</td>\n",
       "      <td>55.178571</td>\n",
       "      <td>237285.714286</td>\n",
       "      <td>49.089894</td>\n",
       "    </tr>\n",
       "    <tr>\n",
       "      <th>2010-01-19</th>\n",
       "      <td>55.540000</td>\n",
       "      <td>54.738572</td>\n",
       "      <td>55.138571</td>\n",
       "      <td>55.247143</td>\n",
       "      <td>249014.285714</td>\n",
       "      <td>49.150900</td>\n",
       "    </tr>\n",
       "    <tr>\n",
       "      <th>2010-01-20</th>\n",
       "      <td>55.495714</td>\n",
       "      <td>54.650000</td>\n",
       "      <td>55.179999</td>\n",
       "      <td>55.151429</td>\n",
       "      <td>249771.428571</td>\n",
       "      <td>49.065748</td>\n",
       "    </tr>\n",
       "    <tr>\n",
       "      <th>2010-01-21</th>\n",
       "      <td>55.437143</td>\n",
       "      <td>54.524286</td>\n",
       "      <td>55.092856</td>\n",
       "      <td>55.012857</td>\n",
       "      <td>252142.857143</td>\n",
       "      <td>48.942467</td>\n",
       "    </tr>\n",
       "    <tr>\n",
       "      <th>2010-01-22</th>\n",
       "      <td>55.295714</td>\n",
       "      <td>54.214286</td>\n",
       "      <td>54.972856</td>\n",
       "      <td>54.687143</td>\n",
       "      <td>277185.714286</td>\n",
       "      <td>48.652695</td>\n",
       "    </tr>\n",
       "    <tr>\n",
       "      <th>2010-01-25</th>\n",
       "      <td>54.961429</td>\n",
       "      <td>53.928572</td>\n",
       "      <td>54.674285</td>\n",
       "      <td>54.322857</td>\n",
       "      <td>283257.142857</td>\n",
       "      <td>48.328607</td>\n",
       "    </tr>\n",
       "    <tr>\n",
       "      <th>2010-01-26</th>\n",
       "      <td>54.615714</td>\n",
       "      <td>53.547143</td>\n",
       "      <td>54.307142</td>\n",
       "      <td>53.908572</td>\n",
       "      <td>269257.142857</td>\n",
       "      <td>47.960037</td>\n",
       "    </tr>\n",
       "    <tr>\n",
       "      <th>2010-01-27</th>\n",
       "      <td>54.247142</td>\n",
       "      <td>53.195715</td>\n",
       "      <td>53.881428</td>\n",
       "      <td>53.637143</td>\n",
       "      <td>273142.857143</td>\n",
       "      <td>47.718558</td>\n",
       "    </tr>\n",
       "    <tr>\n",
       "      <th>2010-01-28</th>\n",
       "      <td>53.848571</td>\n",
       "      <td>52.658572</td>\n",
       "      <td>53.579999</td>\n",
       "      <td>53.054286</td>\n",
       "      <td>253871.428571</td>\n",
       "      <td>47.200016</td>\n",
       "    </tr>\n",
       "    <tr>\n",
       "      <th>2010-01-29</th>\n",
       "      <td>53.382857</td>\n",
       "      <td>52.068572</td>\n",
       "      <td>53.094285</td>\n",
       "      <td>52.408572</td>\n",
       "      <td>274985.714286</td>\n",
       "      <td>46.625551</td>\n",
       "    </tr>\n",
       "    <tr>\n",
       "      <th>2010-02-01</th>\n",
       "      <td>52.784285</td>\n",
       "      <td>51.551429</td>\n",
       "      <td>52.452857</td>\n",
       "      <td>51.955715</td>\n",
       "      <td>305700.000000</td>\n",
       "      <td>46.222662</td>\n",
       "    </tr>\n",
       "  </tbody>\n",
       "</table>\n",
       "</div>"
      ],
      "text/plain": [
       "                 High        Low       Open      Close         Volume  \\\n",
       "Date                                                                    \n",
       "2010-01-04        NaN        NaN        NaN        NaN            NaN   \n",
       "2010-01-05        NaN        NaN        NaN        NaN            NaN   \n",
       "2010-01-06        NaN        NaN        NaN        NaN            NaN   \n",
       "2010-01-07        NaN        NaN        NaN        NaN            NaN   \n",
       "2010-01-08        NaN        NaN        NaN        NaN            NaN   \n",
       "2010-01-11        NaN        NaN        NaN        NaN            NaN   \n",
       "2010-01-12  55.641429  55.048571  55.435714  55.361428  257871.428571   \n",
       "2010-01-13  55.552858  54.888572  55.334286  55.275714  264000.000000   \n",
       "2010-01-14  55.524286  54.832857  55.235714  55.248571  232257.142857   \n",
       "2010-01-15  55.498572  54.741429  55.195714  55.178571  237285.714286   \n",
       "2010-01-19  55.540000  54.738572  55.138571  55.247143  249014.285714   \n",
       "2010-01-20  55.495714  54.650000  55.179999  55.151429  249771.428571   \n",
       "2010-01-21  55.437143  54.524286  55.092856  55.012857  252142.857143   \n",
       "2010-01-22  55.295714  54.214286  54.972856  54.687143  277185.714286   \n",
       "2010-01-25  54.961429  53.928572  54.674285  54.322857  283257.142857   \n",
       "2010-01-26  54.615714  53.547143  54.307142  53.908572  269257.142857   \n",
       "2010-01-27  54.247142  53.195715  53.881428  53.637143  273142.857143   \n",
       "2010-01-28  53.848571  52.658572  53.579999  53.054286  253871.428571   \n",
       "2010-01-29  53.382857  52.068572  53.094285  52.408572  274985.714286   \n",
       "2010-02-01  52.784285  51.551429  52.452857  51.955715  305700.000000   \n",
       "\n",
       "            Adj Close  \n",
       "Date                   \n",
       "2010-01-04        NaN  \n",
       "2010-01-05        NaN  \n",
       "2010-01-06        NaN  \n",
       "2010-01-07        NaN  \n",
       "2010-01-08        NaN  \n",
       "2010-01-11        NaN  \n",
       "2010-01-12  49.252574  \n",
       "2010-01-13  49.176318  \n",
       "2010-01-14  49.152169  \n",
       "2010-01-15  49.089894  \n",
       "2010-01-19  49.150900  \n",
       "2010-01-20  49.065748  \n",
       "2010-01-21  48.942467  \n",
       "2010-01-22  48.652695  \n",
       "2010-01-25  48.328607  \n",
       "2010-01-26  47.960037  \n",
       "2010-01-27  47.718558  \n",
       "2010-01-28  47.200016  \n",
       "2010-01-29  46.625551  \n",
       "2010-02-01  46.222662  "
      ]
     },
     "execution_count": 13,
     "metadata": {},
     "output_type": "execute_result"
    }
   ],
   "source": [
    "df.rolling(7).mean().head(20)"
   ]
  },
  {
   "cell_type": "code",
   "execution_count": 28,
   "id": "01024404-833d-4340-98b3-3299d3dcf80c",
   "metadata": {},
   "outputs": [
    {
     "data": {
      "image/png": "[encoded data removed]",
      "text/plain": [
       "<Figure size 864x432 with 1 Axes>"
      ]
     },
     "metadata": {
      "needs_background": "light"
     },
     "output_type": "display_data"
    }
   ],
   "source": [
    "plt.figure(figsize = (12,6))\n",
    "plt.plot(df['Open'], 'b', label = \"VGT Opening Price\")\n",
    "plt.plot(df.rolling(window = 30).mean()['Close'], 'r', label = \"VGT 30 Day MA\")\n",
    "plt.legend(loc = 'upper left')\n",
    "plt.xlabel('Year')\n",
    "plt.ylabel('Price')\n",
    "plt.title('VGT Opening Price vs. 30 Day Moving Average');"
   ]
  },
  {
   "cell_type": "code",
   "execution_count": 29,
   "id": "df5b8359-2252-4521-93fc-97ffa34edcb8",
   "metadata": {},
   "outputs": [
    {
     "data": {
      "image/png": "[encoded data removed]",
      "text/plain": [
       "<Figure size 432x288 with 1 Axes>"
      ]
     },
     "metadata": {
      "needs_background": "light"
     },
     "output_type": "display_data"
    }
   ],
   "source": [
    "df['Close: 30 Day Mean'] = df['Close'].rolling(window = 30).mean()\n",
    "df[['Close', 'Close: 30 Day Mean']].plot();"
   ]
  },
  {
   "cell_type": "code",
   "execution_count": 30,
   "id": "f3f80adb-14d0-43bc-88ee-62d20b85335a",
   "metadata": {},
   "outputs": [],
   "source": [
    "training_set = df['Open']\n",
    "training_set = pd.DataFrame(training_set) \n"
   ]
  },
  {
   "cell_type": "code",
   "execution_count": 31,
   "id": "fb1982c2-ab52-4228-8106-897c2e729c6e",
   "metadata": {},
   "outputs": [],
   "source": [
    "# Feature Scaling \n",
    "from sklearn.preprocessing import MinMaxScaler\n",
    "sc = MinMaxScaler(feature_range = (0,1))\n",
    "training_set_scaled = sc.fit_transform(training_set) "
   ]
  },
  {
   "cell_type": "code",
   "execution_count": 33,
   "id": "586372e9-badb-41b8-9187-1e8873ad39cb",
   "metadata": {},
   "outputs": [
    {
     "data": {
      "text/plain": [
       "(3021, 1)"
      ]
     },
     "execution_count": 33,
     "metadata": {},
     "output_type": "execute_result"
    }
   ],
   "source": [
    "training_set.shape"
   ]
  },
  {
   "cell_type": "code",
   "execution_count": 34,
   "id": "4d25f28a-1bd8-4a30-a179-e34f876798fe",
   "metadata": {},
   "outputs": [],
   "source": [
    "# Creating a data structure with 15 timesteps and 1 output\n",
    "\n",
    "x_train = []\n",
    "y_train = []\n",
    "\n",
    "for i in range(15, len(training_set_scaled)): \n",
    "    x_train.append(training_set_scaled[i-15:i, 0])\n",
    "    y_train.append(training_set_scaled[i, 0])\n",
    "x_train, y_train = np.array(x_train), np.array(y_train) \n",
    "\n",
    "# Reshaping \n",
    "x_train = np.reshape(x_train, (x_train.shape[0], x_train.shape[1], 1))"
   ]
  },
  {
   "cell_type": "code",
   "execution_count": 35,
   "id": "8c597699-0ae4-4400-a520-1992a124a662",
   "metadata": {},
   "outputs": [
    {
     "name": "stderr",
     "output_type": "stream",
     "text": [
      "2022-02-22 21:37:25.808919: W tensorflow/stream_executor/platform/default/dso_loader.cc:64] Could not load dynamic library 'libcudart.so.11.0'; dlerror: libcudart.so.11.0: cannot open shared object file: No such file or directory\n",
      "2022-02-22 21:37:25.808957: I tensorflow/stream_executor/cuda/cudart_stub.cc:29] Ignore above cudart dlerror if you do not have a GPU set up on your machine.\n"
     ]
    }
   ],
   "source": [
    "# Part 2 - Building the RNN\n",
    "\n",
    "# Importing the Keras Libraries and packages\n",
    "\n",
    "from keras.models import Sequential \n",
    "from keras.layers import Dense\n",
    "from keras.layers import LSTM \n",
    "from keras.layers import Dropout"
   ]
  },
  {
   "cell_type": "code",
   "execution_count": 36,
   "id": "68a4a5de-959b-4c96-96be-88351d90798d",
   "metadata": {},
   "outputs": [
    {
     "name": "stderr",
     "output_type": "stream",
     "text": [
      "2022-02-22 21:37:43.430457: W tensorflow/stream_executor/platform/default/dso_loader.cc:64] Could not load dynamic library 'libcuda.so.1'; dlerror: libcuda.so.1: cannot open shared object file: No such file or directory\n",
      "2022-02-22 21:37:43.430502: W tensorflow/stream_executor/cuda/cuda_driver.cc:269] failed call to cuInit: UNKNOWN ERROR (303)\n",
      "2022-02-22 21:37:43.430535: I tensorflow/stream_executor/cuda/cuda_diagnostics.cc:156] kernel driver does not appear to be running on this host (jupyter-colinfitzgerald): /proc/driver/nvidia/version does not exist\n",
      "2022-02-22 21:37:43.431030: I tensorflow/core/platform/cpu_feature_guard.cc:142] This TensorFlow binary is optimized with oneAPI Deep Neural Network Library (oneDNN) to use the following CPU instructions in performance-critical operations:  AVX2 FMA\n",
      "To enable them in other operations, rebuild TensorFlow with the appropriate compiler flags.\n"
     ]
    }
   ],
   "source": [
    "# Initializing the RNN\n",
    "regressor = Sequential()"
   ]
  },
  {
   "cell_type": "code",
   "execution_count": 37,
   "id": "16454e38-124a-41b7-aab3-567c7a6dce93",
   "metadata": {},
   "outputs": [],
   "source": [
    "# Adding the first LSTM Layer and some Dropout Regularization\n",
    "regressor.add(LSTM(units = 50, return_sequences = True, input_shape = (x_train.shape[1], 1)))\n",
    "regressor.add(Dropout(0.2))\n",
    "\n",
    "# Adding a second LSTM Layer and some Dropout Regularization\n",
    "regressor.add(LSTM(units = 50, return_sequences = True))\n",
    "regressor.add(Dropout(0.2))\n",
    "\n",
    "# Adding a third LSTM Layer and some Dropout Regularization\n",
    "regressor.add(LSTM(units = 50, return_sequences = True))\n",
    "regressor.add(Dropout(0.2))\n",
    "\n",
    "# Adding a fourth LSTM Layer and some Dropout Regularization \n",
    "regressor.add(LSTM(units = 50))\n",
    "regressor.add(Dropout(0.2))\n",
    "\n",
    "# Adding the output Layer\n",
    "regressor.add(Dense(units = 1))"
   ]
  },
  {
   "cell_type": "code",
   "execution_count": 38,
   "id": "6d7140b0-094a-4e59-8a30-2db465e803a9",
   "metadata": {},
   "outputs": [
    {
     "name": "stderr",
     "output_type": "stream",
     "text": [
      "2022-02-22 21:43:40.330587: I tensorflow/compiler/mlir/mlir_graph_optimization_pass.cc:185] None of the MLIR Optimization Passes are enabled (registered 2)\n"
     ]
    },
    {
     "name": "stdout",
     "output_type": "stream",
     "text": [
      "Epoch 1/100\n",
      "94/94 [==============================] - 14s 58ms/step - loss: 0.0097\n",
      "Epoch 2/100\n",
      "94/94 [==============================] - 6s 66ms/step - loss: 0.0015\n",
      "Epoch 3/100\n",
      "94/94 [==============================] - 6s 63ms/step - loss: 0.0016\n",
      "Epoch 4/100\n",
      "94/94 [==============================] - 6s 64ms/step - loss: 0.0013\n",
      "Epoch 5/100\n",
      "94/94 [==============================] - 6s 60ms/step - loss: 0.0012\n",
      "Epoch 6/100\n",
      "94/94 [==============================] - 6s 62ms/step - loss: 0.0011\n",
      "Epoch 7/100\n",
      "94/94 [==============================] - 6s 65ms/step - loss: 0.0012\n",
      "Epoch 8/100\n",
      "94/94 [==============================] - 6s 61ms/step - loss: 0.0012\n",
      "Epoch 9/100\n",
      "94/94 [==============================] - 6s 60ms/step - loss: 8.8747e-04\n",
      "Epoch 10/100\n",
      "94/94 [==============================] - 6s 64ms/step - loss: 9.8074e-04\n",
      "Epoch 11/100\n",
      "94/94 [==============================] - 6s 61ms/step - loss: 0.0011\n",
      "Epoch 12/100\n",
      "94/94 [==============================] - 6s 59ms/step - loss: 9.8477e-04\n",
      "Epoch 13/100\n",
      "94/94 [==============================] - 6s 63ms/step - loss: 0.0010\n",
      "Epoch 14/100\n",
      "94/94 [==============================] - 6s 65ms/step - loss: 0.0011\n",
      "Epoch 15/100\n",
      "94/94 [==============================] - 6s 66ms/step - loss: 9.3004e-04\n",
      "Epoch 16/100\n",
      "94/94 [==============================] - 6s 65ms/step - loss: 9.3027e-04\n",
      "Epoch 17/100\n",
      "94/94 [==============================] - 6s 67ms/step - loss: 8.8892e-04\n",
      "Epoch 18/100\n",
      "94/94 [==============================] - 6s 69ms/step - loss: 0.0011\n",
      "Epoch 19/100\n",
      "94/94 [==============================] - 6s 61ms/step - loss: 9.9434e-04\n",
      "Epoch 20/100\n",
      "94/94 [==============================] - 6s 64ms/step - loss: 8.1932e-04\n",
      "Epoch 21/100\n",
      "94/94 [==============================] - 6s 61ms/step - loss: 8.6179e-04\n",
      "Epoch 22/100\n",
      "94/94 [==============================] - 6s 60ms/step - loss: 9.5223e-04\n",
      "Epoch 23/100\n",
      "94/94 [==============================] - 6s 61ms/step - loss: 8.1458e-04\n",
      "Epoch 24/100\n",
      "94/94 [==============================] - 6s 59ms/step - loss: 8.2502e-04\n",
      "Epoch 25/100\n",
      "94/94 [==============================] - 5s 58ms/step - loss: 8.1339e-04\n",
      "Epoch 26/100\n",
      "94/94 [==============================] - 6s 61ms/step - loss: 8.9054e-04\n",
      "Epoch 27/100\n",
      "94/94 [==============================] - 6s 66ms/step - loss: 8.3572e-04\n",
      "Epoch 28/100\n",
      "94/94 [==============================] - 6s 66ms/step - loss: 8.3045e-04\n",
      "Epoch 29/100\n",
      "94/94 [==============================] - 7s 71ms/step - loss: 6.9787e-04\n",
      "Epoch 30/100\n",
      "94/94 [==============================] - 8s 81ms/step - loss: 7.1277e-04\n",
      "Epoch 31/100\n",
      "94/94 [==============================] - 7s 79ms/step - loss: 7.6381e-04\n",
      "Epoch 32/100\n",
      "94/94 [==============================] - 7s 78ms/step - loss: 7.8659e-04\n",
      "Epoch 33/100\n",
      "94/94 [==============================] - 7s 76ms/step - loss: 8.7219e-04\n",
      "Epoch 34/100\n",
      "94/94 [==============================] - 7s 73ms/step - loss: 7.7127e-04\n",
      "Epoch 35/100\n",
      "94/94 [==============================] - 7s 78ms/step - loss: 8.2165e-04\n",
      "Epoch 36/100\n",
      "94/94 [==============================] - 8s 81ms/step - loss: 7.0462e-04\n",
      "Epoch 37/100\n",
      "94/94 [==============================] - 7s 73ms/step - loss: 6.3669e-04\n",
      "Epoch 38/100\n",
      "94/94 [==============================] - 8s 88ms/step - loss: 7.7918e-04\n",
      "Epoch 39/100\n",
      "94/94 [==============================] - 7s 75ms/step - loss: 6.9890e-04\n",
      "Epoch 40/100\n",
      "94/94 [==============================] - 7s 73ms/step - loss: 7.1403e-04\n",
      "Epoch 41/100\n",
      "94/94 [==============================] - 6s 66ms/step - loss: 7.8016e-04\n",
      "Epoch 42/100\n",
      "94/94 [==============================] - 6s 64ms/step - loss: 6.8374e-04\n",
      "Epoch 43/100\n",
      "94/94 [==============================] - 6s 64ms/step - loss: 6.3022e-04\n",
      "Epoch 44/100\n",
      "94/94 [==============================] - 6s 68ms/step - loss: 6.6341e-04\n",
      "Epoch 45/100\n",
      "94/94 [==============================] - 6s 66ms/step - loss: 7.2363e-04\n",
      "Epoch 46/100\n",
      "94/94 [==============================] - 7s 76ms/step - loss: 6.8902e-04\n",
      "Epoch 47/100\n",
      "94/94 [==============================] - 7s 76ms/step - loss: 6.9521e-04\n",
      "Epoch 48/100\n",
      "94/94 [==============================] - 7s 69ms/step - loss: 7.0490e-04\n",
      "Epoch 49/100\n",
      "94/94 [==============================] - 6s 65ms/step - loss: 6.5273e-04\n",
      "Epoch 50/100\n",
      "94/94 [==============================] - 6s 64ms/step - loss: 6.7506e-04\n",
      "Epoch 51/100\n",
      "94/94 [==============================] - 6s 64ms/step - loss: 6.0401e-04\n",
      "Epoch 52/100\n",
      "94/94 [==============================] - 6s 62ms/step - loss: 6.2384e-04\n",
      "Epoch 53/100\n",
      "94/94 [==============================] - 6s 61ms/step - loss: 6.7456e-04\n",
      "Epoch 54/100\n",
      "94/94 [==============================] - 7s 71ms/step - loss: 7.3482e-04\n",
      "Epoch 55/100\n",
      "94/94 [==============================] - 6s 63ms/step - loss: 6.6103e-04\n",
      "Epoch 56/100\n",
      "94/94 [==============================] - 6s 63ms/step - loss: 6.7558e-04\n",
      "Epoch 57/100\n",
      "94/94 [==============================] - 6s 64ms/step - loss: 6.1503e-04\n",
      "Epoch 58/100\n",
      "94/94 [==============================] - 6s 68ms/step - loss: 6.9154e-04\n",
      "Epoch 59/100\n",
      "94/94 [==============================] - 7s 74ms/step - loss: 6.6323e-04\n",
      "Epoch 60/100\n",
      "94/94 [==============================] - 6s 66ms/step - loss: 6.4610e-04\n",
      "Epoch 61/100\n",
      "94/94 [==============================] - 6s 64ms/step - loss: 6.5523e-04\n",
      "Epoch 62/100\n",
      "94/94 [==============================] - 6s 65ms/step - loss: 7.6356e-04\n",
      "Epoch 63/100\n",
      "94/94 [==============================] - 7s 70ms/step - loss: 5.9296e-04\n",
      "Epoch 64/100\n",
      "94/94 [==============================] - 6s 68ms/step - loss: 6.1338e-04\n",
      "Epoch 65/100\n",
      "94/94 [==============================] - 6s 68ms/step - loss: 6.2267e-04\n",
      "Epoch 66/100\n",
      "94/94 [==============================] - 7s 74ms/step - loss: 6.8134e-04\n",
      "Epoch 67/100\n",
      "94/94 [==============================] - 7s 70ms/step - loss: 6.6708e-04\n",
      "Epoch 68/100\n",
      "94/94 [==============================] - 6s 68ms/step - loss: 7.7441e-04\n",
      "Epoch 69/100\n",
      "94/94 [==============================] - 7s 75ms/step - loss: 5.5180e-04\n",
      "Epoch 70/100\n",
      "94/94 [==============================] - 7s 71ms/step - loss: 6.0769e-04\n",
      "Epoch 71/100\n",
      "94/94 [==============================] - 6s 65ms/step - loss: 6.2163e-04\n",
      "Epoch 72/100\n",
      "94/94 [==============================] - 7s 72ms/step - loss: 7.9490e-04\n",
      "Epoch 73/100\n",
      "94/94 [==============================] - 7s 70ms/step - loss: 6.1758e-04\n",
      "Epoch 74/100\n",
      "94/94 [==============================] - 9s 98ms/step - loss: 6.1175e-04\n",
      "Epoch 75/100\n",
      "94/94 [==============================] - 10s 105ms/step - loss: 6.4490e-04\n",
      "Epoch 76/100\n",
      "94/94 [==============================] - 9s 96ms/step - loss: 6.5288e-04\n",
      "Epoch 77/100\n",
      "94/94 [==============================] - 8s 83ms/step - loss: 5.6703e-04\n",
      "Epoch 78/100\n",
      "94/94 [==============================] - 8s 82ms/step - loss: 5.8327e-04\n",
      "Epoch 79/100\n",
      "94/94 [==============================] - 8s 87ms/step - loss: 6.2104e-04\n",
      "Epoch 80/100\n",
      "94/94 [==============================] - 8s 87ms/step - loss: 5.5335e-04\n",
      "Epoch 81/100\n",
      "94/94 [==============================] - 8s 88ms/step - loss: 5.8898e-04\n",
      "Epoch 82/100\n",
      "94/94 [==============================] - 9s 95ms/step - loss: 6.1689e-04\n",
      "Epoch 83/100\n",
      "94/94 [==============================] - 8s 83ms/step - loss: 5.7734e-04\n",
      "Epoch 84/100\n",
      "94/94 [==============================] - 8s 88ms/step - loss: 7.6453e-04\n",
      "Epoch 85/100\n",
      "94/94 [==============================] - 8s 86ms/step - loss: 5.7457e-04\n",
      "Epoch 86/100\n",
      "94/94 [==============================] - 8s 84ms/step - loss: 5.7759e-04\n",
      "Epoch 87/100\n",
      "94/94 [==============================] - 8s 85ms/step - loss: 5.9053e-04\n",
      "Epoch 88/100\n",
      "94/94 [==============================] - 9s 92ms/step - loss: 6.3421e-04\n",
      "Epoch 89/100\n",
      "94/94 [==============================] - 8s 83ms/step - loss: 6.0799e-04\n",
      "Epoch 90/100\n",
      "94/94 [==============================] - 8s 85ms/step - loss: 5.6955e-04\n",
      "Epoch 91/100\n",
      "94/94 [==============================] - 8s 80ms/step - loss: 5.7927e-04\n",
      "Epoch 92/100\n",
      "94/94 [==============================] - 8s 81ms/step - loss: 5.6768e-04\n",
      "Epoch 93/100\n",
      "94/94 [==============================] - 8s 85ms/step - loss: 6.8457e-04\n",
      "Epoch 94/100\n",
      "94/94 [==============================] - 8s 85ms/step - loss: 6.0943e-04\n",
      "Epoch 95/100\n",
      "94/94 [==============================] - 8s 86ms/step - loss: 6.1073e-04\n",
      "Epoch 96/100\n",
      "94/94 [==============================] - 8s 85ms/step - loss: 6.6988e-04\n",
      "Epoch 97/100\n",
      "94/94 [==============================] - 8s 83ms/step - loss: 5.8801e-04\n",
      "Epoch 98/100\n",
      "94/94 [==============================] - 8s 85ms/step - loss: 5.9095e-04\n",
      "Epoch 99/100\n",
      "94/94 [==============================] - 8s 88ms/step - loss: 5.6343e-04\n",
      "Epoch 100/100\n",
      "94/94 [==============================] - 8s 85ms/step - loss: 5.7028e-04\n"
     ]
    },
    {
     "data": {
      "text/plain": [
       "<keras.callbacks.History at 0x7f66504fe1c0>"
      ]
     },
     "execution_count": 38,
     "metadata": {},
     "output_type": "execute_result"
    }
   ],
   "source": [
    "# Compiling the RNN\n",
    "regressor.compile(optimizer = 'adam', loss = 'mean_squared_error')\n",
    "\n",
    "# Fitting the RNN to the Training set\n",
    "regressor.fit(x_train, y_train, epochs = 100, batch_size = 32)"
   ]
  },
  {
   "cell_type": "code",
   "execution_count": 40,
   "id": "a74bf0c9-b7b9-4066-917c-6855b8431adb",
   "metadata": {},
   "outputs": [],
   "source": [
    "start_test = '2022-01-01'\n",
    "end_test = '2022-02-20'\n",
    "\n",
    "df_test = data.DataReader('VGT', 'yahoo', start_test, end_test)\n",
    "real_df_test = df_test.iloc[:, 1:2].values"
   ]
  },
  {
   "cell_type": "code",
   "execution_count": 42,
   "id": "3a2e5c72-f465-4de8-bb54-c12e51440f1a",
   "metadata": {},
   "outputs": [
    {
     "name": "stdout",
     "output_type": "stream",
     "text": [
      "<class 'pandas.core.frame.DataFrame'>\n",
      "DatetimeIndex: 34 entries, 2022-01-03 to 2022-02-18\n",
      "Data columns (total 6 columns):\n",
      " #   Column     Non-Null Count  Dtype  \n",
      "---  ------     --------------  -----  \n",
      " 0   High       34 non-null     float64\n",
      " 1   Low        34 non-null     float64\n",
      " 2   Open       34 non-null     float64\n",
      " 3   Close      34 non-null     float64\n",
      " 4   Volume     34 non-null     int64  \n",
      " 5   Adj Close  34 non-null     float64\n",
      "dtypes: float64(5), int64(1)\n",
      "memory usage: 1.9 KB\n"
     ]
    }
   ],
   "source": [
    "df_test.info()"
   ]
  },
  {
   "cell_type": "code",
   "execution_count": 43,
   "id": "3aa49ffb-067a-40b5-a836-34ea0e5860a0",
   "metadata": {},
   "outputs": [],
   "source": [
    "test_set = df_test['Open']\n",
    "test_set = pd.DataFrame(test_set) "
   ]
  },
  {
   "cell_type": "code",
   "execution_count": 44,
   "id": "7ebb4102-cb92-49bf-842c-da6582b0d4e0",
   "metadata": {},
   "outputs": [
    {
     "name": "stdout",
     "output_type": "stream",
     "text": [
      "<class 'pandas.core.frame.DataFrame'>\n",
      "DatetimeIndex: 34 entries, 2022-01-03 to 2022-02-18\n",
      "Data columns (total 1 columns):\n",
      " #   Column  Non-Null Count  Dtype  \n",
      "---  ------  --------------  -----  \n",
      " 0   Open    34 non-null     float64\n",
      "dtypes: float64(1)\n",
      "memory usage: 544.0 bytes\n"
     ]
    }
   ],
   "source": [
    "test_set.info()"
   ]
  },
  {
   "cell_type": "code",
   "execution_count": 47,
   "id": "b617294c-284d-43a8-a83a-88505c7b5b8d",
   "metadata": {},
   "outputs": [],
   "source": [
    "df_total = pd.concat((df['Open'], df_test['Open']), axis = 0)\n",
    "inputs = df_total[len(df_total) - len(df_test) - 15:].values\n",
    "inputs = inputs.reshape(-1,1)\n",
    "inputs = sc.transform(inputs)\n",
    "x_test = []\n",
    "\n",
    "for i in range(15, 49): \n",
    "    x_test.append(inputs[i - 15:i, 0])\n",
    "x_test = np.array(x_test) \n",
    "x_test = np.reshape(x_test, (x_test.shape[0], x_test.shape[1], 1))\n",
    "predicted_stock_price = regressor.predict(x_test) \n",
    "predicted_stock_price = sc.inverse_transform(predicted_stock_price) "
   ]
  },
  {
   "cell_type": "code",
   "execution_count": 48,
   "id": "6353f1e6-8831-4cfb-9b55-cfb2afae7bbd",
   "metadata": {},
   "outputs": [
    {
     "name": "stdout",
     "output_type": "stream",
     "text": [
      "<class 'pandas.core.frame.DataFrame'>\n",
      "RangeIndex: 34 entries, 0 to 33\n",
      "Data columns (total 1 columns):\n",
      " #   Column  Non-Null Count  Dtype  \n",
      "---  ------  --------------  -----  \n",
      " 0   0       34 non-null     float32\n",
      "dtypes: float32(1)\n",
      "memory usage: 264.0 bytes\n"
     ]
    }
   ],
   "source": [
    "predicted_stock_price = pd.DataFrame(predicted_stock_price)\n",
    "predicted_stock_price.info()"
   ]
  },
  {
   "cell_type": "code",
   "execution_count": 52,
   "id": "3a3b72b7-676d-4757-81fe-b826f9462d3c",
   "metadata": {},
   "outputs": [
    {
     "data": {
      "image/png": "[encoded data removed]",
      "text/plain": [
       "<Figure size 432x288 with 1 Axes>"
      ]
     },
     "metadata": {
      "needs_background": "light"
     },
     "output_type": "display_data"
    }
   ],
   "source": [
    "# Visualizing the results\n",
    "plt.plot(real_df_test, 'r', label = 'Real VGT Mutual Fund Price')\n",
    "plt.plot(predicted_stock_price, 'b', label = 'Predicted VGT Mutual Fund Price')\n",
    "plt.title('VGT Mutual Fund Price Prediction')\n",
    "plt.xlabel('Time')\n",
    "plt.ylabel('Price')\n",
    "plt.legend();"
   ]
  }
 ],
 "metadata": {
  "kernelspec": {
   "display_name": "Python 3 (ipykernel)",
   "language": "python",
   "name": "python3"
  },
  "language_info": {
   "codemirror_mode": {
    "name": "ipython",
    "version": 3
   },
   "file_extension": ".py",
   "mimetype": "text/x-python",
   "name": "python",
   "nbconvert_exporter": "python",
   "pygments_lexer": "ipython3",
   "version": "3.9.10"
  }
 },
 "nbformat": 4,
 "nbformat_minor": 5
}
